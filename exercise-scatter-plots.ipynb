{
 "cells": [
  {
   "cell_type": "markdown",
   "id": "76b1435b",
   "metadata": {
    "papermill": {
     "duration": 0.027543,
     "end_time": "2022-01-15T06:19:41.003153",
     "exception": false,
     "start_time": "2022-01-15T06:19:40.975610",
     "status": "completed"
    },
    "tags": []
   },
   "source": [
    "**This notebook is an exercise in the [Data Visualization](https://www.kaggle.com/learn/data-visualization) course.  You can reference the tutorial at [this link](https://www.kaggle.com/alexisbcook/scatter-plots).**\n",
    "\n",
    "---\n"
   ]
  },
  {
   "cell_type": "markdown",
   "id": "11feae45",
   "metadata": {
    "papermill": {
     "duration": 0.026651,
     "end_time": "2022-01-15T06:19:41.056768",
     "exception": false,
     "start_time": "2022-01-15T06:19:41.030117",
     "status": "completed"
    },
    "tags": []
   },
   "source": [
    "In this exercise, you will use your new knowledge to propose a solution to a real-world scenario.  To succeed, you will need to import data into Python, answer questions using the data, and generate **scatter plots** to understand patterns in the data.\n",
    "\n",
    "## Scenario\n",
    "\n",
    "You work for a major candy producer, and your goal is to write a report that your company can use to guide the design of its next product.  Soon after starting your research, you stumble across this [very interesting dataset](https://fivethirtyeight.com/features/the-ultimate-halloween-candy-power-ranking/) containing results from a fun survey to crowdsource favorite candies.\n",
    "\n",
    "## Setup\n",
    "\n",
    "Run the next cell to import and configure the Python libraries that you need to complete the exercise."
   ]
  },
  {
   "cell_type": "code",
   "execution_count": 1,
   "id": "b4a9f992",
   "metadata": {
    "execution": {
     "iopub.execute_input": "2022-01-15T06:19:41.119444Z",
     "iopub.status.busy": "2022-01-15T06:19:41.118824Z",
     "iopub.status.idle": "2022-01-15T06:19:42.157223Z",
     "shell.execute_reply": "2022-01-15T06:19:42.156502Z",
     "shell.execute_reply.started": "2022-01-15T05:43:52.426333Z"
    },
    "papermill": {
     "duration": 1.073093,
     "end_time": "2022-01-15T06:19:42.157422",
     "exception": false,
     "start_time": "2022-01-15T06:19:41.084329",
     "status": "completed"
    },
    "tags": []
   },
   "outputs": [
    {
     "name": "stdout",
     "output_type": "stream",
     "text": [
      "Setup Complete\n"
     ]
    }
   ],
   "source": [
    "import pandas as pd\n",
    "pd.plotting.register_matplotlib_converters()\n",
    "import matplotlib.pyplot as plt\n",
    "%matplotlib inline\n",
    "import seaborn as sns\n",
    "print(\"Setup Complete\")"
   ]
  },
  {
   "cell_type": "markdown",
   "id": "262c3bd8",
   "metadata": {
    "papermill": {
     "duration": 0.027192,
     "end_time": "2022-01-15T06:19:42.213348",
     "exception": false,
     "start_time": "2022-01-15T06:19:42.186156",
     "status": "completed"
    },
    "tags": []
   },
   "source": [
    "The questions below will give you feedback on your work. Run the following cell to set up our feedback system."
   ]
  },
  {
   "cell_type": "code",
   "execution_count": 2,
   "id": "7898946c",
   "metadata": {
    "execution": {
     "iopub.execute_input": "2022-01-15T06:19:42.274359Z",
     "iopub.status.busy": "2022-01-15T06:19:42.273499Z",
     "iopub.status.idle": "2022-01-15T06:19:42.338427Z",
     "shell.execute_reply": "2022-01-15T06:19:42.337857Z",
     "shell.execute_reply.started": "2022-01-15T05:44:36.595507Z"
    },
    "papermill": {
     "duration": 0.097533,
     "end_time": "2022-01-15T06:19:42.338581",
     "exception": false,
     "start_time": "2022-01-15T06:19:42.241048",
     "status": "completed"
    },
    "tags": []
   },
   "outputs": [
    {
     "name": "stdout",
     "output_type": "stream",
     "text": [
      "Setup Complete\n"
     ]
    }
   ],
   "source": [
    "# Set up code checking\n",
    "import os\n",
    "if not os.path.exists(\"../input/candy.csv\"):\n",
    "    os.symlink(\"../input/data-for-datavis/candy.csv\", \"../input/candy.csv\") \n",
    "from learntools.core import binder\n",
    "binder.bind(globals())\n",
    "from learntools.data_viz_to_coder.ex4 import *\n",
    "print(\"Setup Complete\")"
   ]
  },
  {
   "cell_type": "markdown",
   "id": "6b943a68",
   "metadata": {
    "papermill": {
     "duration": 0.029969,
     "end_time": "2022-01-15T06:19:42.396469",
     "exception": false,
     "start_time": "2022-01-15T06:19:42.366500",
     "status": "completed"
    },
    "tags": []
   },
   "source": [
    "## Step 1: Load the Data\n",
    "\n",
    "Read the candy data file into `candy_data`.  Use the `\"id\"` column to label the rows."
   ]
  },
  {
   "cell_type": "code",
   "execution_count": 3,
   "id": "d7f6f088",
   "metadata": {
    "execution": {
     "iopub.execute_input": "2022-01-15T06:19:42.457626Z",
     "iopub.status.busy": "2022-01-15T06:19:42.455169Z",
     "iopub.status.idle": "2022-01-15T06:19:42.469618Z",
     "shell.execute_reply": "2022-01-15T06:19:42.470104Z",
     "shell.execute_reply.started": "2022-01-15T05:45:16.274095Z"
    },
    "papermill": {
     "duration": 0.045699,
     "end_time": "2022-01-15T06:19:42.470270",
     "exception": false,
     "start_time": "2022-01-15T06:19:42.424571",
     "status": "completed"
    },
    "tags": []
   },
   "outputs": [
    {
     "data": {
      "application/javascript": [
       "parent.postMessage({\"jupyterEvent\": \"custom.exercise_interaction\", \"data\": {\"outcomeType\": 1, \"valueTowardsCompletion\": 0.3333333333333333, \"interactionType\": 1, \"questionType\": 1, \"questionId\": \"1_LoadData\", \"learnToolsVersion\": \"0.3.4\", \"failureMessage\": \"\", \"exceptionClass\": \"\", \"trace\": \"\"}}, \"*\")"
      ],
      "text/plain": [
       "<IPython.core.display.Javascript object>"
      ]
     },
     "metadata": {},
     "output_type": "display_data"
    },
    {
     "data": {
      "text/markdown": [
       "<span style=\"color:#33cc33\">Correct</span>"
      ],
      "text/plain": [
       "Correct"
      ]
     },
     "metadata": {},
     "output_type": "display_data"
    }
   ],
   "source": [
    "# Path of the file to read\n",
    "candy_filepath = \"../input/candy.csv\"\n",
    "\n",
    "# Fill in the line below to read the file into a variable candy_data\n",
    "candy_data = pd.read_csv(candy_filepath,index_col=\"id\")\n",
    "\n",
    "# Run the line below with no changes to check that you've loaded the data correctly\n",
    "step_1.check()"
   ]
  },
  {
   "cell_type": "code",
   "execution_count": 4,
   "id": "f323d23c",
   "metadata": {
    "execution": {
     "iopub.execute_input": "2022-01-15T06:19:42.532614Z",
     "iopub.status.busy": "2022-01-15T06:19:42.531694Z",
     "iopub.status.idle": "2022-01-15T06:19:42.534794Z",
     "shell.execute_reply": "2022-01-15T06:19:42.535263Z"
    },
    "papermill": {
     "duration": 0.036543,
     "end_time": "2022-01-15T06:19:42.535456",
     "exception": false,
     "start_time": "2022-01-15T06:19:42.498913",
     "status": "completed"
    },
    "tags": []
   },
   "outputs": [],
   "source": [
    "# Lines below will give you a hint or solution code\n",
    "#step_1.hint()\n",
    "#step_1.solution()"
   ]
  },
  {
   "cell_type": "markdown",
   "id": "2d1257aa",
   "metadata": {
    "papermill": {
     "duration": 0.028254,
     "end_time": "2022-01-15T06:19:42.591980",
     "exception": false,
     "start_time": "2022-01-15T06:19:42.563726",
     "status": "completed"
    },
    "tags": []
   },
   "source": [
    "## Step 2: Review the data\n",
    "\n",
    "Use a Python command to print the first five rows of the data."
   ]
  },
  {
   "cell_type": "code",
   "execution_count": 5,
   "id": "8c099189",
   "metadata": {
    "execution": {
     "iopub.execute_input": "2022-01-15T06:19:42.652421Z",
     "iopub.status.busy": "2022-01-15T06:19:42.651390Z",
     "iopub.status.idle": "2022-01-15T06:19:42.673412Z",
     "shell.execute_reply": "2022-01-15T06:19:42.673881Z",
     "shell.execute_reply.started": "2022-01-15T05:45:33.865165Z"
    },
    "papermill": {
     "duration": 0.053866,
     "end_time": "2022-01-15T06:19:42.674054",
     "exception": false,
     "start_time": "2022-01-15T06:19:42.620188",
     "status": "completed"
    },
    "tags": []
   },
   "outputs": [
    {
     "data": {
      "text/html": [
       "<div>\n",
       "<style scoped>\n",
       "    .dataframe tbody tr th:only-of-type {\n",
       "        vertical-align: middle;\n",
       "    }\n",
       "\n",
       "    .dataframe tbody tr th {\n",
       "        vertical-align: top;\n",
       "    }\n",
       "\n",
       "    .dataframe thead th {\n",
       "        text-align: right;\n",
       "    }\n",
       "</style>\n",
       "<table border=\"1\" class=\"dataframe\">\n",
       "  <thead>\n",
       "    <tr style=\"text-align: right;\">\n",
       "      <th></th>\n",
       "      <th>competitorname</th>\n",
       "      <th>chocolate</th>\n",
       "      <th>fruity</th>\n",
       "      <th>caramel</th>\n",
       "      <th>peanutyalmondy</th>\n",
       "      <th>nougat</th>\n",
       "      <th>crispedricewafer</th>\n",
       "      <th>hard</th>\n",
       "      <th>bar</th>\n",
       "      <th>pluribus</th>\n",
       "      <th>sugarpercent</th>\n",
       "      <th>pricepercent</th>\n",
       "      <th>winpercent</th>\n",
       "    </tr>\n",
       "    <tr>\n",
       "      <th>id</th>\n",
       "      <th></th>\n",
       "      <th></th>\n",
       "      <th></th>\n",
       "      <th></th>\n",
       "      <th></th>\n",
       "      <th></th>\n",
       "      <th></th>\n",
       "      <th></th>\n",
       "      <th></th>\n",
       "      <th></th>\n",
       "      <th></th>\n",
       "      <th></th>\n",
       "      <th></th>\n",
       "    </tr>\n",
       "  </thead>\n",
       "  <tbody>\n",
       "    <tr>\n",
       "      <th>0</th>\n",
       "      <td>100 Grand</td>\n",
       "      <td>Yes</td>\n",
       "      <td>No</td>\n",
       "      <td>Yes</td>\n",
       "      <td>No</td>\n",
       "      <td>No</td>\n",
       "      <td>Yes</td>\n",
       "      <td>No</td>\n",
       "      <td>Yes</td>\n",
       "      <td>No</td>\n",
       "      <td>0.732</td>\n",
       "      <td>0.860</td>\n",
       "      <td>66.971725</td>\n",
       "    </tr>\n",
       "    <tr>\n",
       "      <th>1</th>\n",
       "      <td>3 Musketeers</td>\n",
       "      <td>Yes</td>\n",
       "      <td>No</td>\n",
       "      <td>No</td>\n",
       "      <td>No</td>\n",
       "      <td>Yes</td>\n",
       "      <td>No</td>\n",
       "      <td>No</td>\n",
       "      <td>Yes</td>\n",
       "      <td>No</td>\n",
       "      <td>0.604</td>\n",
       "      <td>0.511</td>\n",
       "      <td>67.602936</td>\n",
       "    </tr>\n",
       "    <tr>\n",
       "      <th>2</th>\n",
       "      <td>Air Heads</td>\n",
       "      <td>No</td>\n",
       "      <td>Yes</td>\n",
       "      <td>No</td>\n",
       "      <td>No</td>\n",
       "      <td>No</td>\n",
       "      <td>No</td>\n",
       "      <td>No</td>\n",
       "      <td>No</td>\n",
       "      <td>No</td>\n",
       "      <td>0.906</td>\n",
       "      <td>0.511</td>\n",
       "      <td>52.341465</td>\n",
       "    </tr>\n",
       "    <tr>\n",
       "      <th>3</th>\n",
       "      <td>Almond Joy</td>\n",
       "      <td>Yes</td>\n",
       "      <td>No</td>\n",
       "      <td>No</td>\n",
       "      <td>Yes</td>\n",
       "      <td>No</td>\n",
       "      <td>No</td>\n",
       "      <td>No</td>\n",
       "      <td>Yes</td>\n",
       "      <td>No</td>\n",
       "      <td>0.465</td>\n",
       "      <td>0.767</td>\n",
       "      <td>50.347546</td>\n",
       "    </tr>\n",
       "    <tr>\n",
       "      <th>4</th>\n",
       "      <td>Baby Ruth</td>\n",
       "      <td>Yes</td>\n",
       "      <td>No</td>\n",
       "      <td>Yes</td>\n",
       "      <td>Yes</td>\n",
       "      <td>Yes</td>\n",
       "      <td>No</td>\n",
       "      <td>No</td>\n",
       "      <td>Yes</td>\n",
       "      <td>No</td>\n",
       "      <td>0.604</td>\n",
       "      <td>0.767</td>\n",
       "      <td>56.914547</td>\n",
       "    </tr>\n",
       "  </tbody>\n",
       "</table>\n",
       "</div>"
      ],
      "text/plain": [
       "   competitorname chocolate fruity caramel peanutyalmondy nougat  \\\n",
       "id                                                                 \n",
       "0       100 Grand       Yes     No     Yes             No     No   \n",
       "1    3 Musketeers       Yes     No      No             No    Yes   \n",
       "2       Air Heads        No    Yes      No             No     No   \n",
       "3      Almond Joy       Yes     No      No            Yes     No   \n",
       "4       Baby Ruth       Yes     No     Yes            Yes    Yes   \n",
       "\n",
       "   crispedricewafer hard  bar pluribus  sugarpercent  pricepercent  winpercent  \n",
       "id                                                                              \n",
       "0               Yes   No  Yes       No         0.732         0.860   66.971725  \n",
       "1                No   No  Yes       No         0.604         0.511   67.602936  \n",
       "2                No   No   No       No         0.906         0.511   52.341465  \n",
       "3                No   No  Yes       No         0.465         0.767   50.347546  \n",
       "4                No   No  Yes       No         0.604         0.767   56.914547  "
      ]
     },
     "execution_count": 5,
     "metadata": {},
     "output_type": "execute_result"
    }
   ],
   "source": [
    "# Print the first five rows of the data\n",
    "candy_data.head()\n",
    "# Your code here"
   ]
  },
  {
   "cell_type": "markdown",
   "id": "cd55e70e",
   "metadata": {
    "papermill": {
     "duration": 0.029316,
     "end_time": "2022-01-15T06:19:42.733774",
     "exception": false,
     "start_time": "2022-01-15T06:19:42.704458",
     "status": "completed"
    },
    "tags": []
   },
   "source": [
    "The dataset contains 83 rows, where each corresponds to a different candy bar.  There are 13 columns:\n",
    "- `'competitorname'` contains the name of the candy bar. \n",
    "- the next **9** columns (from `'chocolate'` to `'pluribus'`) describe the candy.  For instance, rows with chocolate candies have `\"Yes\"` in the `'chocolate'` column (and candies without chocolate have `\"No\"` in the same column).\n",
    "- `'sugarpercent'` provides some indication of the amount of sugar, where higher values signify higher sugar content.\n",
    "- `'pricepercent'` shows the price per unit, relative to the other candies in the dataset.\n",
    "- `'winpercent'` is calculated from the survey results; higher values indicate that the candy was more popular with survey respondents.\n",
    "\n",
    "Use the first five rows of the data to answer the questions below."
   ]
  },
  {
   "cell_type": "code",
   "execution_count": 6,
   "id": "1934d796",
   "metadata": {
    "execution": {
     "iopub.execute_input": "2022-01-15T06:19:42.799162Z",
     "iopub.status.busy": "2022-01-15T06:19:42.798499Z",
     "iopub.status.idle": "2022-01-15T06:19:42.803803Z",
     "shell.execute_reply": "2022-01-15T06:19:42.804294Z",
     "shell.execute_reply.started": "2022-01-15T05:47:47.159633Z"
    },
    "papermill": {
     "duration": 0.041001,
     "end_time": "2022-01-15T06:19:42.804517",
     "exception": false,
     "start_time": "2022-01-15T06:19:42.763516",
     "status": "completed"
    },
    "tags": []
   },
   "outputs": [
    {
     "data": {
      "application/javascript": [
       "parent.postMessage({\"jupyterEvent\": \"custom.exercise_interaction\", \"data\": {\"outcomeType\": 1, \"valueTowardsCompletion\": 0.3333333333333333, \"interactionType\": 1, \"questionType\": 1, \"questionId\": \"2_ReviewData\", \"learnToolsVersion\": \"0.3.4\", \"failureMessage\": \"\", \"exceptionClass\": \"\", \"trace\": \"\"}}, \"*\")"
      ],
      "text/plain": [
       "<IPython.core.display.Javascript object>"
      ]
     },
     "metadata": {},
     "output_type": "display_data"
    },
    {
     "data": {
      "text/markdown": [
       "<span style=\"color:#33cc33\">Correct</span>"
      ],
      "text/plain": [
       "Correct"
      ]
     },
     "metadata": {},
     "output_type": "display_data"
    }
   ],
   "source": [
    "# Fill in the line below: Which candy was more popular with survey respondents:\n",
    "# '3 Musketeers' or 'Almond Joy'?  (Please enclose your answer in single quotes.)\n",
    "more_popular = '3 Musketeers'\n",
    "\n",
    "# Fill in the line below: Which candy has higher sugar content: 'Air Heads'\n",
    "# or 'Baby Ruth'? (Please enclose your answer in single quotes.)\n",
    "more_sugar = \"Air Heads\"\n",
    "\n",
    "# Check your answers\n",
    "step_2.check()"
   ]
  },
  {
   "cell_type": "code",
   "execution_count": 7,
   "id": "359f771f",
   "metadata": {
    "execution": {
     "iopub.execute_input": "2022-01-15T06:19:42.868952Z",
     "iopub.status.busy": "2022-01-15T06:19:42.867957Z",
     "iopub.status.idle": "2022-01-15T06:19:42.871107Z",
     "shell.execute_reply": "2022-01-15T06:19:42.871949Z"
    },
    "papermill": {
     "duration": 0.037629,
     "end_time": "2022-01-15T06:19:42.872157",
     "exception": false,
     "start_time": "2022-01-15T06:19:42.834528",
     "status": "completed"
    },
    "tags": []
   },
   "outputs": [],
   "source": [
    "# Lines below will give you a hint or solution code\n",
    "#step_2.hint()\n",
    "#step_2.solution()"
   ]
  },
  {
   "cell_type": "markdown",
   "id": "039ebe2b",
   "metadata": {
    "papermill": {
     "duration": 0.030745,
     "end_time": "2022-01-15T06:19:42.933585",
     "exception": false,
     "start_time": "2022-01-15T06:19:42.902840",
     "status": "completed"
    },
    "tags": []
   },
   "source": [
    "## Step 3: The role of sugar\n",
    "\n",
    "Do people tend to prefer candies with higher sugar content?  \n",
    "\n",
    "#### Part A\n",
    "\n",
    "Create a scatter plot that shows the relationship between `'sugarpercent'` (on the horizontal x-axis) and `'winpercent'` (on the vertical y-axis).  _Don't add a regression line just yet -- you'll do that in the next step!_"
   ]
  },
  {
   "cell_type": "code",
   "execution_count": 8,
   "id": "25a12413",
   "metadata": {
    "execution": {
     "iopub.execute_input": "2022-01-15T06:19:42.996818Z",
     "iopub.status.busy": "2022-01-15T06:19:42.996185Z",
     "iopub.status.idle": "2022-01-15T06:19:43.270139Z",
     "shell.execute_reply": "2022-01-15T06:19:43.269400Z",
     "shell.execute_reply.started": "2022-01-15T05:49:16.949175Z"
    },
    "papermill": {
     "duration": 0.306798,
     "end_time": "2022-01-15T06:19:43.270293",
     "exception": false,
     "start_time": "2022-01-15T06:19:42.963495",
     "status": "completed"
    },
    "tags": []
   },
   "outputs": [
    {
     "data": {
      "application/javascript": [
       "parent.postMessage({\"jupyterEvent\": \"custom.exercise_interaction\", \"data\": {\"outcomeType\": 1, \"valueTowardsCompletion\": 0.3333333333333333, \"interactionType\": 1, \"questionType\": 2, \"questionId\": \"3.1_PlotBlueScatter\", \"learnToolsVersion\": \"0.3.4\", \"failureMessage\": \"\", \"exceptionClass\": \"\", \"trace\": \"\"}}, \"*\")"
      ],
      "text/plain": [
       "<IPython.core.display.Javascript object>"
      ]
     },
     "metadata": {},
     "output_type": "display_data"
    },
    {
     "data": {
      "text/markdown": [
       "<span style=\"color:#33cc33\">Correct</span>"
      ],
      "text/plain": [
       "Correct"
      ]
     },
     "metadata": {},
     "output_type": "display_data"
    },
    {
     "data": {
      "image/png": "[encoded data removed]",
      "text/plain": [
       "<Figure size 432x288 with 1 Axes>"
      ]
     },
     "metadata": {
      "needs_background": "light"
     },
     "output_type": "display_data"
    }
   ],
   "source": [
    "# Scatter plot showing the relationship between 'sugarpercent' and 'winpercent'\n",
    "sns.scatterplot(x=candy_data['sugarpercent'],y=candy_data['winpercent'])\n",
    "# Your code here\n",
    "\n",
    "# Check your answer\n",
    "step_3.a.check()"
   ]
  },
  {
   "cell_type": "code",
   "execution_count": 9,
   "id": "f43e2858",
   "metadata": {
    "execution": {
     "iopub.execute_input": "2022-01-15T06:19:43.338881Z",
     "iopub.status.busy": "2022-01-15T06:19:43.337937Z",
     "iopub.status.idle": "2022-01-15T06:19:43.340811Z",
     "shell.execute_reply": "2022-01-15T06:19:43.340250Z"
    },
    "papermill": {
     "duration": 0.038816,
     "end_time": "2022-01-15T06:19:43.340950",
     "exception": false,
     "start_time": "2022-01-15T06:19:43.302134",
     "status": "completed"
    },
    "tags": []
   },
   "outputs": [],
   "source": [
    "# Lines below will give you a hint or solution code\n",
    "#step_3.a.hint()\n",
    "#step_3.a.solution_plot()"
   ]
  },
  {
   "cell_type": "markdown",
   "id": "154dbda6",
   "metadata": {
    "papermill": {
     "duration": 0.03217,
     "end_time": "2022-01-15T06:19:43.405093",
     "exception": false,
     "start_time": "2022-01-15T06:19:43.372923",
     "status": "completed"
    },
    "tags": []
   },
   "source": [
    "#### Part B\n",
    "\n",
    "Does the scatter plot show a **strong** correlation between the two variables?  If so, are candies with more sugar relatively more or less popular with the survey respondents?"
   ]
  },
  {
   "cell_type": "code",
   "execution_count": 10,
   "id": "c93df2f1",
   "metadata": {
    "execution": {
     "iopub.execute_input": "2022-01-15T06:19:43.472401Z",
     "iopub.status.busy": "2022-01-15T06:19:43.471760Z",
     "iopub.status.idle": "2022-01-15T06:19:43.474754Z",
     "shell.execute_reply": "2022-01-15T06:19:43.475235Z"
    },
    "papermill": {
     "duration": 0.038247,
     "end_time": "2022-01-15T06:19:43.475415",
     "exception": false,
     "start_time": "2022-01-15T06:19:43.437168",
     "status": "completed"
    },
    "tags": []
   },
   "outputs": [],
   "source": [
    "#step_3.b.hint()"
   ]
  },
  {
   "cell_type": "code",
   "execution_count": 11,
   "id": "c08e68ae",
   "metadata": {
    "execution": {
     "iopub.execute_input": "2022-01-15T06:19:43.543246Z",
     "iopub.status.busy": "2022-01-15T06:19:43.542593Z",
     "iopub.status.idle": "2022-01-15T06:19:43.548265Z",
     "shell.execute_reply": "2022-01-15T06:19:43.548896Z",
     "shell.execute_reply.started": "2022-01-15T06:04:29.905935Z"
    },
    "papermill": {
     "duration": 0.041564,
     "end_time": "2022-01-15T06:19:43.549072",
     "exception": false,
     "start_time": "2022-01-15T06:19:43.507508",
     "status": "completed"
    },
    "tags": []
   },
   "outputs": [
    {
     "data": {
      "application/javascript": [
       "parent.postMessage({\"jupyterEvent\": \"custom.exercise_interaction\", \"data\": {\"interactionType\": 3, \"questionType\": 4, \"questionId\": \"3.2_ThinkBlueScatter\", \"learnToolsVersion\": \"0.3.4\", \"valueTowardsCompletion\": 0.0, \"failureMessage\": \"\", \"exceptionClass\": \"\", \"trace\": \"\", \"outcomeType\": 4}}, \"*\")"
      ],
      "text/plain": [
       "<IPython.core.display.Javascript object>"
      ]
     },
     "metadata": {},
     "output_type": "display_data"
    },
    {
     "data": {
      "text/markdown": [
       "<span style=\"color:#33cc99\">Solution:</span> The scatter plot does not show a strong correlation between the two variables. Since there is no clear relationship between the two variables, this tells us that sugar content does not play a strong role in candy popularity."
      ],
      "text/plain": [
       "Solution: The scatter plot does not show a strong correlation between the two variables. Since there is no clear relationship between the two variables, this tells us that sugar content does not play a strong role in candy popularity."
      ]
     },
     "metadata": {},
     "output_type": "display_data"
    }
   ],
   "source": [
    "# Check your answer (Run this code cell to receive credit!)\n",
    "step_3.b.solution()"
   ]
  },
  {
   "cell_type": "markdown",
   "id": "8eb56fbc",
   "metadata": {
    "papermill": {
     "duration": 0.032706,
     "end_time": "2022-01-15T06:19:43.615070",
     "exception": false,
     "start_time": "2022-01-15T06:19:43.582364",
     "status": "completed"
    },
    "tags": []
   },
   "source": [
    "## Step 4: Take a closer look\n",
    "\n",
    "#### Part A\n",
    "\n",
    "Create the same scatter plot you created in **Step 3**, but now with a regression line!"
   ]
  },
  {
   "cell_type": "code",
   "execution_count": 12,
   "id": "05321894",
   "metadata": {
    "execution": {
     "iopub.execute_input": "2022-01-15T06:19:43.699136Z",
     "iopub.status.busy": "2022-01-15T06:19:43.698470Z",
     "iopub.status.idle": "2022-01-15T06:19:44.020871Z",
     "shell.execute_reply": "2022-01-15T06:19:44.020280Z",
     "shell.execute_reply.started": "2022-01-15T06:05:32.043535Z"
    },
    "papermill": {
     "duration": 0.372584,
     "end_time": "2022-01-15T06:19:44.021011",
     "exception": false,
     "start_time": "2022-01-15T06:19:43.648427",
     "status": "completed"
    },
    "tags": []
   },
   "outputs": [
    {
     "data": {
      "application/javascript": [
       "parent.postMessage({\"jupyterEvent\": \"custom.exercise_interaction\", \"data\": {\"outcomeType\": 1, \"valueTowardsCompletion\": 0.3333333333333333, \"interactionType\": 1, \"questionType\": 2, \"questionId\": \"4.1_PlotBlueReg\", \"learnToolsVersion\": \"0.3.4\", \"failureMessage\": \"\", \"exceptionClass\": \"\", \"trace\": \"\"}}, \"*\")"
      ],
      "text/plain": [
       "<IPython.core.display.Javascript object>"
      ]
     },
     "metadata": {},
     "output_type": "display_data"
    },
    {
     "data": {
      "text/markdown": [
       "<span style=\"color:#33cc33\">Correct</span>"
      ],
      "text/plain": [
       "Correct"
      ]
     },
     "metadata": {},
     "output_type": "display_data"
    },
    {
     "data": {
      "image/png": "[encoded data removed]",
      "text/plain": [
       "<Figure size 432x288 with 1 Axes>"
      ]
     },
     "metadata": {
      "needs_background": "light"
     },
     "output_type": "display_data"
    }
   ],
   "source": [
    "# Scatter plot w/ regression line showing the relationship between 'sugarpercent' and 'winpercent'\n",
    "sns.regplot(x=candy_data['sugarpercent'],y=candy_data['winpercent'])\n",
    "# Your code here\n",
    "\n",
    "# Check your answer\n",
    "step_4.a.check()"
   ]
  },
  {
   "cell_type": "code",
   "execution_count": 13,
   "id": "5f88b2d0",
   "metadata": {
    "execution": {
     "iopub.execute_input": "2022-01-15T06:19:44.096129Z",
     "iopub.status.busy": "2022-01-15T06:19:44.095190Z",
     "iopub.status.idle": "2022-01-15T06:19:44.098133Z",
     "shell.execute_reply": "2022-01-15T06:19:44.097606Z"
    },
    "papermill": {
     "duration": 0.042184,
     "end_time": "2022-01-15T06:19:44.098271",
     "exception": false,
     "start_time": "2022-01-15T06:19:44.056087",
     "status": "completed"
    },
    "tags": []
   },
   "outputs": [],
   "source": [
    "# Lines below will give you a hint or solution code\n",
    "#step_4.a.hint()\n",
    "#step_4.a.solution_plot()"
   ]
  },
  {
   "cell_type": "markdown",
   "id": "62d99dd7",
   "metadata": {
    "papermill": {
     "duration": 0.034897,
     "end_time": "2022-01-15T06:19:44.168640",
     "exception": false,
     "start_time": "2022-01-15T06:19:44.133743",
     "status": "completed"
    },
    "tags": []
   },
   "source": [
    "#### Part B\n",
    "\n",
    "According to the plot above, is there a **slight** correlation between `'winpercent'` and `'sugarpercent'`?  What does this tell you about the candy that people tend to prefer?"
   ]
  },
  {
   "cell_type": "code",
   "execution_count": 14,
   "id": "abe89f97",
   "metadata": {
    "execution": {
     "iopub.execute_input": "2022-01-15T06:19:44.243958Z",
     "iopub.status.busy": "2022-01-15T06:19:44.242985Z",
     "iopub.status.idle": "2022-01-15T06:19:44.245998Z",
     "shell.execute_reply": "2022-01-15T06:19:44.245390Z"
    },
    "papermill": {
     "duration": 0.042251,
     "end_time": "2022-01-15T06:19:44.246133",
     "exception": false,
     "start_time": "2022-01-15T06:19:44.203882",
     "status": "completed"
    },
    "tags": []
   },
   "outputs": [],
   "source": [
    "#step_4.b.hint()"
   ]
  },
  {
   "cell_type": "code",
   "execution_count": 15,
   "id": "c97ba89d",
   "metadata": {
    "execution": {
     "iopub.execute_input": "2022-01-15T06:19:44.320197Z",
     "iopub.status.busy": "2022-01-15T06:19:44.319579Z",
     "iopub.status.idle": "2022-01-15T06:19:44.329084Z",
     "shell.execute_reply": "2022-01-15T06:19:44.328432Z",
     "shell.execute_reply.started": "2022-01-15T06:06:09.379071Z"
    },
    "papermill": {
     "duration": 0.047942,
     "end_time": "2022-01-15T06:19:44.329225",
     "exception": false,
     "start_time": "2022-01-15T06:19:44.281283",
     "status": "completed"
    },
    "tags": []
   },
   "outputs": [
    {
     "data": {
      "application/javascript": [
       "parent.postMessage({\"jupyterEvent\": \"custom.exercise_interaction\", \"data\": {\"interactionType\": 3, \"questionType\": 4, \"questionId\": \"4.2_ThinkBlueReg\", \"learnToolsVersion\": \"0.3.4\", \"valueTowardsCompletion\": 0.0, \"failureMessage\": \"\", \"exceptionClass\": \"\", \"trace\": \"\", \"outcomeType\": 4}}, \"*\")"
      ],
      "text/plain": [
       "<IPython.core.display.Javascript object>"
      ]
     },
     "metadata": {},
     "output_type": "display_data"
    },
    {
     "data": {
      "text/markdown": [
       "<span style=\"color:#33cc99\">Solution:</span> Since the regression line has a slightly positive slope, this tells us that there is a slightly positive correlation between `'winpercent'` and `'sugarpercent'`. Thus, people have a slight preference for candies containing relatively more sugar."
      ],
      "text/plain": [
       "Solution: Since the regression line has a slightly positive slope, this tells us that there is a slightly positive correlation between `'winpercent'` and `'sugarpercent'`. Thus, people have a slight preference for candies containing relatively more sugar."
      ]
     },
     "metadata": {},
     "output_type": "display_data"
    }
   ],
   "source": [
    "# Check your answer (Run this code cell to receive credit!)\n",
    "step_4.b.solution()"
   ]
  },
  {
   "cell_type": "markdown",
   "id": "05cdfc7b",
   "metadata": {
    "papermill": {
     "duration": 0.035864,
     "end_time": "2022-01-15T06:19:44.401786",
     "exception": false,
     "start_time": "2022-01-15T06:19:44.365922",
     "status": "completed"
    },
    "tags": []
   },
   "source": [
    "## Step 5: Chocolate!\n",
    "\n",
    "In the code cell below, create a scatter plot to show the relationship between `'pricepercent'` (on the horizontal x-axis) and `'winpercent'` (on the vertical y-axis). Use the `'chocolate'` column to color-code the points.  _Don't add any regression lines just yet -- you'll do that in the next step!_"
   ]
  },
  {
   "cell_type": "code",
   "execution_count": 16,
   "id": "02e5a076",
   "metadata": {
    "execution": {
     "iopub.execute_input": "2022-01-15T06:19:44.478410Z",
     "iopub.status.busy": "2022-01-15T06:19:44.477729Z",
     "iopub.status.idle": "2022-01-15T06:19:44.780045Z",
     "shell.execute_reply": "2022-01-15T06:19:44.780526Z",
     "shell.execute_reply.started": "2022-01-15T06:16:23.256733Z"
    },
    "papermill": {
     "duration": 0.341948,
     "end_time": "2022-01-15T06:19:44.780704",
     "exception": false,
     "start_time": "2022-01-15T06:19:44.438756",
     "status": "completed"
    },
    "tags": []
   },
   "outputs": [
    {
     "data": {
      "application/javascript": [
       "parent.postMessage({\"jupyterEvent\": \"custom.exercise_interaction\", \"data\": {\"outcomeType\": 1, \"valueTowardsCompletion\": 0.3333333333333333, \"interactionType\": 1, \"questionType\": 2, \"questionId\": \"5_ColorScatter\", \"learnToolsVersion\": \"0.3.4\", \"failureMessage\": \"\", \"exceptionClass\": \"\", \"trace\": \"\"}}, \"*\")"
      ],
      "text/plain": [
       "<IPython.core.display.Javascript object>"
      ]
     },
     "metadata": {},
     "output_type": "display_data"
    },
    {
     "data": {
      "text/markdown": [
       "<span style=\"color:#33cc33\">Correct</span>"
      ],
      "text/plain": [
       "Correct"
      ]
     },
     "metadata": {},
     "output_type": "display_data"
    },
    {
     "data": {
      "image/png": "[encoded data removed]",
      "text/plain": [
       "<Figure size 432x288 with 1 Axes>"
      ]
     },
     "metadata": {
      "needs_background": "light"
     },
     "output_type": "display_data"
    }
   ],
   "source": [
    "# Scatter plot showing the relationship between 'pricepercent', 'winpercent', and 'chocolate'\n",
    "sns.scatterplot(x=candy_data['pricepercent'],y=candy_data['winpercent'],hue=candy_data['chocolate'])\n",
    "# Your code here\n",
    "\n",
    "# Check your answer\n",
    "step_5.check()"
   ]
  },
  {
   "cell_type": "code",
   "execution_count": 17,
   "id": "8bbc3010",
   "metadata": {
    "execution": {
     "iopub.execute_input": "2022-01-15T06:19:44.860723Z",
     "iopub.status.busy": "2022-01-15T06:19:44.860061Z",
     "iopub.status.idle": "2022-01-15T06:19:44.862841Z",
     "shell.execute_reply": "2022-01-15T06:19:44.863342Z"
    },
    "papermill": {
     "duration": 0.04463,
     "end_time": "2022-01-15T06:19:44.863528",
     "exception": false,
     "start_time": "2022-01-15T06:19:44.818898",
     "status": "completed"
    },
    "tags": []
   },
   "outputs": [],
   "source": [
    "# Lines below will give you a hint or solution code\n",
    "#step_5.hint()\n",
    "#step_5.solution_plot()"
   ]
  },
  {
   "cell_type": "markdown",
   "id": "1b8016a5",
   "metadata": {
    "papermill": {
     "duration": 0.039052,
     "end_time": "2022-01-15T06:19:44.941863",
     "exception": false,
     "start_time": "2022-01-15T06:19:44.902811",
     "status": "completed"
    },
    "tags": []
   },
   "source": [
    "Can you see any interesting patterns in the scatter plot?  We'll investigate this plot further  by adding regression lines in the next step!\n",
    "\n",
    "## Step 6: Investigate chocolate\n",
    "\n",
    "#### Part A\n",
    "\n",
    "Create the same scatter plot you created in **Step 5**, but now with two regression lines, corresponding to (1) chocolate candies and (2) candies without chocolate."
   ]
  },
  {
   "cell_type": "code",
   "execution_count": 18,
   "id": "238a8959",
   "metadata": {
    "execution": {
     "iopub.execute_input": "2022-01-15T06:19:45.022204Z",
     "iopub.status.busy": "2022-01-15T06:19:45.021550Z",
     "iopub.status.idle": "2022-01-15T06:19:45.695638Z",
     "shell.execute_reply": "2022-01-15T06:19:45.696145Z",
     "shell.execute_reply.started": "2022-01-15T06:16:48.664380Z"
    },
    "papermill": {
     "duration": 0.715573,
     "end_time": "2022-01-15T06:19:45.696362",
     "exception": false,
     "start_time": "2022-01-15T06:19:44.980789",
     "status": "completed"
    },
    "tags": []
   },
   "outputs": [
    {
     "data": {
      "application/javascript": [
       "parent.postMessage({\"jupyterEvent\": \"custom.exercise_interaction\", \"data\": {\"outcomeType\": 1, \"valueTowardsCompletion\": 0.3333333333333333, \"interactionType\": 1, \"questionType\": 2, \"questionId\": \"6.1_PlotColorReg\", \"learnToolsVersion\": \"0.3.4\", \"failureMessage\": \"\", \"exceptionClass\": \"\", \"trace\": \"\"}}, \"*\")"
      ],
      "text/plain": [
       "<IPython.core.display.Javascript object>"
      ]
     },
     "metadata": {},
     "output_type": "display_data"
    },
    {
     "data": {
      "text/markdown": [
       "<span style=\"color:#33cc33\">Correct</span>"
      ],
      "text/plain": [
       "Correct"
      ]
     },
     "metadata": {},
     "output_type": "display_data"
    },
    {
     "data": {
      "image/png": "[encoded data removed]",
      "text/plain": [
       "<Figure size 416.375x360 with 1 Axes>"
      ]
     },
     "metadata": {
      "needs_background": "light"
     },
     "output_type": "display_data"
    }
   ],
   "source": [
    "# Color-coded scatter plot w/ regression lines\n",
    "sns.lmplot(x=\"pricepercent\",y=\"winpercent\",hue=\"chocolate\",data=candy_data)\n",
    "# Your code here\n",
    "\n",
    "# Check your answer\n",
    "step_6.a.check()"
   ]
  },
  {
   "cell_type": "code",
   "execution_count": 19,
   "id": "525bf5c0",
   "metadata": {
    "execution": {
     "iopub.execute_input": "2022-01-15T06:19:45.782618Z",
     "iopub.status.busy": "2022-01-15T06:19:45.781919Z",
     "iopub.status.idle": "2022-01-15T06:19:45.785121Z",
     "shell.execute_reply": "2022-01-15T06:19:45.784492Z"
    },
    "papermill": {
     "duration": 0.048093,
     "end_time": "2022-01-15T06:19:45.785260",
     "exception": false,
     "start_time": "2022-01-15T06:19:45.737167",
     "status": "completed"
    },
    "tags": []
   },
   "outputs": [],
   "source": [
    "# Lines below will give you a hint or solution code\n",
    "#step_6.a.hint()\n",
    "#step_6.a.solution_plot()"
   ]
  },
  {
   "cell_type": "markdown",
   "id": "963b8094",
   "metadata": {
    "papermill": {
     "duration": 0.040178,
     "end_time": "2022-01-15T06:19:45.865935",
     "exception": false,
     "start_time": "2022-01-15T06:19:45.825757",
     "status": "completed"
    },
    "tags": []
   },
   "source": [
    "#### Part B\n",
    "\n",
    "Using the regression lines, what conclusions can you draw about the effects of chocolate and price on candy popularity?"
   ]
  },
  {
   "cell_type": "code",
   "execution_count": 20,
   "id": "4e0d035b",
   "metadata": {
    "execution": {
     "iopub.execute_input": "2022-01-15T06:19:45.951666Z",
     "iopub.status.busy": "2022-01-15T06:19:45.950719Z",
     "iopub.status.idle": "2022-01-15T06:19:45.954056Z",
     "shell.execute_reply": "2022-01-15T06:19:45.954665Z"
    },
    "papermill": {
     "duration": 0.048335,
     "end_time": "2022-01-15T06:19:45.954836",
     "exception": false,
     "start_time": "2022-01-15T06:19:45.906501",
     "status": "completed"
    },
    "tags": []
   },
   "outputs": [],
   "source": [
    "#step_6.b.hint()"
   ]
  },
  {
   "cell_type": "code",
   "execution_count": 21,
   "id": "13700df8",
   "metadata": {
    "execution": {
     "iopub.execute_input": "2022-01-15T06:19:46.039740Z",
     "iopub.status.busy": "2022-01-15T06:19:46.038759Z",
     "iopub.status.idle": "2022-01-15T06:19:46.045933Z",
     "shell.execute_reply": "2022-01-15T06:19:46.046563Z",
     "shell.execute_reply.started": "2022-01-15T06:14:43.997322Z"
    },
    "papermill": {
     "duration": 0.05151,
     "end_time": "2022-01-15T06:19:46.046737",
     "exception": false,
     "start_time": "2022-01-15T06:19:45.995227",
     "status": "completed"
    },
    "tags": []
   },
   "outputs": [
    {
     "data": {
      "application/javascript": [
       "parent.postMessage({\"jupyterEvent\": \"custom.exercise_interaction\", \"data\": {\"interactionType\": 3, \"questionType\": 4, \"questionId\": \"6.2_ThinkColorReg\", \"learnToolsVersion\": \"0.3.4\", \"valueTowardsCompletion\": 0.0, \"failureMessage\": \"\", \"exceptionClass\": \"\", \"trace\": \"\", \"outcomeType\": 4}}, \"*\")"
      ],
      "text/plain": [
       "<IPython.core.display.Javascript object>"
      ]
     },
     "metadata": {},
     "output_type": "display_data"
    },
    {
     "data": {
      "text/markdown": [
       "<span style=\"color:#33cc99\">Solution:</span> We'll begin with the regression line for chocolate candies. Since this line has a slightly positive slope, we can say that more expensive chocolate candies tend to be more popular (than relatively cheaper chocolate candies).  Likewise, since the regression line for candies without chocolate has a negative slope, we can say that if candies don't contain chocolate, they tend to be more popular when they are cheaper.  One important note, however, is that the dataset is quite small -- so we shouldn't invest too much trust in these patterns!  To inspire more confidence in the results, we should add more candies to the dataset."
      ],
      "text/plain": [
       "Solution: We'll begin with the regression line for chocolate candies. Since this line has a slightly positive slope, we can say that more expensive chocolate candies tend to be more popular (than relatively cheaper chocolate candies).  Likewise, since the regression line for candies without chocolate has a negative slope, we can say that if candies don't contain chocolate, they tend to be more popular when they are cheaper.  One important note, however, is that the dataset is quite small -- so we shouldn't invest too much trust in these patterns!  To inspire more confidence in the results, we should add more candies to the dataset."
      ]
     },
     "metadata": {},
     "output_type": "display_data"
    }
   ],
   "source": [
    "# Check your answer (Run this code cell to receive credit!)\n",
    "step_6.b.solution()"
   ]
  },
  {
   "cell_type": "markdown",
   "id": "c6d97d9f",
   "metadata": {
    "papermill": {
     "duration": 0.041544,
     "end_time": "2022-01-15T06:19:46.131559",
     "exception": false,
     "start_time": "2022-01-15T06:19:46.090015",
     "status": "completed"
    },
    "tags": []
   },
   "source": [
    "## Step 7: Everybody loves chocolate.\n",
    "\n",
    "#### Part A\n",
    "\n",
    "Create a categorical scatter plot to highlight the relationship between `'chocolate'` and `'winpercent'`.  Put `'chocolate'` on the (horizontal) x-axis, and `'winpercent'` on the (vertical) y-axis."
   ]
  },
  {
   "cell_type": "code",
   "execution_count": 22,
   "id": "0b78e4c3",
   "metadata": {
    "execution": {
     "iopub.execute_input": "2022-01-15T06:19:46.218741Z",
     "iopub.status.busy": "2022-01-15T06:19:46.217671Z",
     "iopub.status.idle": "2022-01-15T06:19:46.429450Z",
     "shell.execute_reply": "2022-01-15T06:19:46.429989Z",
     "shell.execute_reply.started": "2022-01-15T06:18:23.234652Z"
    },
    "papermill": {
     "duration": 0.257108,
     "end_time": "2022-01-15T06:19:46.430163",
     "exception": false,
     "start_time": "2022-01-15T06:19:46.173055",
     "status": "completed"
    },
    "tags": []
   },
   "outputs": [
    {
     "data": {
      "application/javascript": [
       "parent.postMessage({\"jupyterEvent\": \"custom.exercise_interaction\", \"data\": {\"outcomeType\": 1, \"valueTowardsCompletion\": 0.3333333333333333, \"interactionType\": 1, \"questionType\": 2, \"questionId\": \"7.1_PlotSwarm\", \"learnToolsVersion\": \"0.3.4\", \"failureMessage\": \"\", \"exceptionClass\": \"\", \"trace\": \"\"}}, \"*\")"
      ],
      "text/plain": [
       "<IPython.core.display.Javascript object>"
      ]
     },
     "metadata": {},
     "output_type": "display_data"
    },
    {
     "data": {
      "text/markdown": [
       "<span style=\"color:#33cc33\">Correct</span>"
      ],
      "text/plain": [
       "Correct"
      ]
     },
     "metadata": {},
     "output_type": "display_data"
    },
    {
     "data": {
      "image/png": "[encoded data removed]",
      "text/plain": [
       "<Figure size 432x288 with 1 Axes>"
      ]
     },
     "metadata": {
      "needs_background": "light"
     },
     "output_type": "display_data"
    }
   ],
   "source": [
    "# Scatter plot showing the relationship between 'chocolate' and 'winpercent'\n",
    "sns.swarmplot(x=candy_data['chocolate'],y=candy_data['winpercent'])\n",
    "# Your code here\n",
    "\n",
    "# Check your answer\n",
    "step_7.a.check()"
   ]
  },
  {
   "cell_type": "code",
   "execution_count": 23,
   "id": "8a9e77d2",
   "metadata": {
    "execution": {
     "iopub.execute_input": "2022-01-15T06:19:46.521371Z",
     "iopub.status.busy": "2022-01-15T06:19:46.520697Z",
     "iopub.status.idle": "2022-01-15T06:19:46.523571Z",
     "shell.execute_reply": "2022-01-15T06:19:46.524126Z"
    },
    "papermill": {
     "duration": 0.0498,
     "end_time": "2022-01-15T06:19:46.524322",
     "exception": false,
     "start_time": "2022-01-15T06:19:46.474522",
     "status": "completed"
    },
    "tags": []
   },
   "outputs": [],
   "source": [
    "# Lines below will give you a hint or solution code\n",
    "#step_7.a.hint()\n",
    "#step_7.a.solution_plot()"
   ]
  },
  {
   "cell_type": "markdown",
   "id": "e49f91f2",
   "metadata": {
    "papermill": {
     "duration": 0.043432,
     "end_time": "2022-01-15T06:19:46.612855",
     "exception": false,
     "start_time": "2022-01-15T06:19:46.569423",
     "status": "completed"
    },
    "tags": []
   },
   "source": [
    "#### Part B\n",
    "\n",
    "You decide to dedicate a section of your report to the fact that chocolate candies tend to be more popular than candies without chocolate.  Which plot is more appropriate to tell this story: the plot from **Step 6**, or the plot from **Step 7**?"
   ]
  },
  {
   "cell_type": "code",
   "execution_count": 24,
   "id": "0e914c8d",
   "metadata": {
    "execution": {
     "iopub.execute_input": "2022-01-15T06:19:46.703383Z",
     "iopub.status.busy": "2022-01-15T06:19:46.702656Z",
     "iopub.status.idle": "2022-01-15T06:19:46.705583Z",
     "shell.execute_reply": "2022-01-15T06:19:46.706159Z"
    },
    "papermill": {
     "duration": 0.050013,
     "end_time": "2022-01-15T06:19:46.706363",
     "exception": false,
     "start_time": "2022-01-15T06:19:46.656350",
     "status": "completed"
    },
    "tags": []
   },
   "outputs": [],
   "source": [
    "#step_7.b.hint()"
   ]
  },
  {
   "cell_type": "code",
   "execution_count": 25,
   "id": "1ae6409a",
   "metadata": {
    "execution": {
     "iopub.execute_input": "2022-01-15T06:19:46.798185Z",
     "iopub.status.busy": "2022-01-15T06:19:46.797515Z",
     "iopub.status.idle": "2022-01-15T06:19:46.804075Z",
     "shell.execute_reply": "2022-01-15T06:19:46.804605Z",
     "shell.execute_reply.started": "2022-01-15T06:19:03.592048Z"
    },
    "papermill": {
     "duration": 0.05418,
     "end_time": "2022-01-15T06:19:46.804779",
     "exception": false,
     "start_time": "2022-01-15T06:19:46.750599",
     "status": "completed"
    },
    "tags": []
   },
   "outputs": [
    {
     "data": {
      "application/javascript": [
       "parent.postMessage({\"jupyterEvent\": \"custom.exercise_interaction\", \"data\": {\"interactionType\": 3, \"questionType\": 4, \"questionId\": \"7.2_ThinkSwarm\", \"learnToolsVersion\": \"0.3.4\", \"valueTowardsCompletion\": 0.0, \"failureMessage\": \"\", \"exceptionClass\": \"\", \"trace\": \"\", \"outcomeType\": 4}}, \"*\")"
      ],
      "text/plain": [
       "<IPython.core.display.Javascript object>"
      ]
     },
     "metadata": {},
     "output_type": "display_data"
    },
    {
     "data": {
      "text/markdown": [
       "<span style=\"color:#33cc99\">Solution:</span> In this case, the categorical scatter plot from **Step 7** is the more appropriate plot. While both plots tell the desired story, the plot from **Step 6** conveys far more information that could distract from the main point."
      ],
      "text/plain": [
       "Solution: In this case, the categorical scatter plot from **Step 7** is the more appropriate plot. While both plots tell the desired story, the plot from **Step 6** conveys far more information that could distract from the main point."
      ]
     },
     "metadata": {},
     "output_type": "display_data"
    }
   ],
   "source": [
    "# Check your answer (Run this code cell to receive credit!)\n",
    "step_7.b.solution()"
   ]
  },
  {
   "cell_type": "markdown",
   "id": "39a9223c",
   "metadata": {
    "papermill": {
     "duration": 0.044935,
     "end_time": "2022-01-15T06:19:46.894227",
     "exception": false,
     "start_time": "2022-01-15T06:19:46.849292",
     "status": "completed"
    },
    "tags": []
   },
   "source": [
    "## Keep going\n",
    "\n",
    "Explore **[histograms and density plots](https://www.kaggle.com/alexisbcook/distributions)**."
   ]
  },
  {
   "cell_type": "markdown",
   "id": "60879517",
   "metadata": {
    "papermill": {
     "duration": 0.046901,
     "end_time": "2022-01-15T06:19:46.985822",
     "exception": false,
     "start_time": "2022-01-15T06:19:46.938921",
     "status": "completed"
    },
    "tags": []
   },
   "source": [
    "---\n",
    "\n",
    "\n",
    "\n",
    "\n",
    "*Have questions or comments? Visit the [course discussion forum](https://www.kaggle.com/learn/data-visualization/discussion) to chat with other learners.*"
   ]
  }
 ],
 "metadata": {
  "kernelspec": {
   "display_name": "Python 3",
   "language": "python",
   "name": "python3"
  },
  "language_info": {
   "codemirror_mode": {
    "name": "ipython",
    "version": 3
   },
   "file_extension": ".py",
   "mimetype": "text/x-python",
   "name": "python",
   "nbconvert_exporter": "python",
   "pygments_lexer": "ipython3",
   "version": "3.7.12"
  },
  "papermill": {
   "default_parameters": {},
   "duration": 16.902089,
   "end_time": "2022-01-15T06:19:47.740340",
   "environment_variables": {},
   "exception": null,
   "input_path": "__notebook__.ipynb",
   "output_path": "__notebook__.ipynb",
   "parameters": {},
   "start_time": "2022-01-15T06:19:30.838251",
   "version": "2.3.3"
  }
 },
 "nbformat": 4,
 "nbformat_minor": 5
}
